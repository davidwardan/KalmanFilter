{
 "cells": [
  {
   "cell_type": "code",
   "id": "initial_id",
   "metadata": {
    "collapsed": true,
    "ExecuteTime": {
     "end_time": "2024-06-11T15:08:28.874444Z",
     "start_time": "2024-06-11T15:08:28.574916Z"
    }
   },
   "source": [
    "# import libraries\n",
    "import numpy as np\n",
    "import matplotlib.pyplot as plt\n",
    "import math\n",
    "\n",
    "# set plot parameters\n",
    "plt.rcParams.update({'font.size': 16})\n",
    "plt.rcParams['text.usetex'] = True"
   ],
   "outputs": [],
   "execution_count": 3
  },
  {
   "metadata": {
    "ExecuteTime": {
     "end_time": "2024-06-11T15:08:29.409801Z",
     "start_time": "2024-06-11T15:08:29.406211Z"
    }
   },
   "cell_type": "code",
   "source": [
    "# define a function to apply the kalman filter\n",
    "def filter(A, Q, C, R, x, P, z):\n",
    "    # predict step of KF (a priori estimate)\n",
    "    x_pred = A @ x # predicted state\n",
    "    P_pred = A @ P @ A.T + Q # predicted state covariance matrix\n",
    "    \n",
    "    # update step of KF (a posteriori estimate)\n",
    "    K = P_pred @ C.T @ np.linalg.pinv(C @ P_pred @ C.T + R) # Standard Kalman gain\n",
    "    x_filt = x_pred + K @ (z - C @ x_pred) # filtered state\n",
    "    P_filt = P_pred - K @ C @ P_pred# filtered state covariance matrix\n",
    "    \n",
    "    return x_filt, P_filt, x_pred, P_pred\n",
    "\n",
    "def smooth(A, x_filt, P_filt, x_pred, P_pred):\n",
    "    x_smooth = x_filt.copy()\n",
    "    P_smooth = P_filt.copy()\n",
    "    for i in range(len(x_filt)-2, -1, -1):\n",
    "        J = P_filt[i] @ A.T @ np.linalg.pinv(P_pred[i+1])\n",
    "        x_smooth[i] = x_filt[i] + J @ (x_smooth[i+1] - x_pred[i+1])\n",
    "        P_smooth[i] = P_filt[i] + J @ (P_smooth[i+1] - P_pred[i+1]) @ J.T\n",
    "\n",
    "    return x_smooth[0], P_smooth[0]\n"
   ],
   "id": "82fc65a3f26f6d7",
   "outputs": [],
   "execution_count": 4
  },
  {
   "metadata": {
    "ExecuteTime": {
     "end_time": "2024-06-11T15:08:29.730888Z",
     "start_time": "2024-06-11T15:08:29.726992Z"
    }
   },
   "cell_type": "code",
   "source": [
    "# define parameters\n",
    "N = 10 # lag window size\n",
    "A = np.array([[1, 1], [0, 1]]) # train matrix\n",
    "Q = np.array([[0.25, 0.5], [0.5, 1]]) * 0.1**2 # transition covariance matrix\n",
    "C = np.array([[1, 0]]) # observation matrix\n",
    "R = np.array([[3]]) # observation covariance matrix\n",
    "\n",
    "x = np.array([1, -1]) # initial state\n",
    "P = np.array([[2**2, 0],\n",
    "                          [0, 1.5**2]]) # initial state covariance matrix"
   ],
   "id": "d6577ab6fe3495ef",
   "outputs": [],
   "execution_count": 5
  },
  {
   "metadata": {
    "ExecuteTime": {
     "end_time": "2024-06-11T15:08:32.919500Z",
     "start_time": "2024-06-11T15:08:32.917154Z"
    }
   },
   "cell_type": "code",
   "source": [
    "# generate data\n",
    "np.random.seed(0)\n",
    "n = 50\n",
    "t = np.linspace(0, n, n)\n",
    "z = t + np.random.normal(0, R[0], n)"
   ],
   "id": "89153bee286a0633",
   "outputs": [],
   "execution_count": 6
  },
  {
   "metadata": {},
   "cell_type": "code",
   "outputs": [],
   "execution_count": null,
   "source": [
    "x_final = [] # used to store filtered and smoothed states\n",
    "P_final = [] # used to store filtered and smoothed state covariance matrices\n",
    "\n",
    "buffer_x = [x]\n",
    "buffer_P = [P]\n",
    "\n",
    "buffer_x_pred = []\n",
    "buffer_P_pred = []\n",
    "\n",
    "i = 0\n",
    "while i <= len(z):\n",
    "    x, P, x_pred, P_pred = filter(A, Q, C, R, x, P, z[i])\n",
    "    buffer_x.append(x)\n",
    "    buffer_P.append(P)\n",
    "    buffer_x_pred.append(x_pred)\n",
    "    buffer_P_pred.append(P_pred)\n",
    "    i += 1\n",
    "    \n",
    "    if i >= N:\n",
    "        x, P = smooth(A, buffer_x, buffer_P, buffer_x_pred, buffer_P_pred)\n",
    "        x_final.append(x)\n",
    "        P_final.append(P)\n",
    "        \n",
    "        # remove the oldest state\n",
    "        buffer_x.pop(0)\n",
    "        buffer_P.pop(0)\n",
    "        buffer_x_pred.pop(0)\n",
    "        buffer_P_pred.pop(0)"
   ],
   "id": "35c82a948774e837"
  }
 ],
 "metadata": {
  "kernelspec": {
   "display_name": "Python 3",
   "language": "python",
   "name": "python3"
  },
  "language_info": {
   "codemirror_mode": {
    "name": "ipython",
    "version": 2
   },
   "file_extension": ".py",
   "mimetype": "text/x-python",
   "name": "python",
   "nbconvert_exporter": "python",
   "pygments_lexer": "ipython2",
   "version": "2.7.6"
  }
 },
 "nbformat": 4,
 "nbformat_minor": 5
}
